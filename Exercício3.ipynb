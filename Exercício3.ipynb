{
 "cells": [
  {
   "cell_type": "code",
   "execution_count": 107,
   "id": "cc93c490",
   "metadata": {},
   "outputs": [
    {
     "name": "stdout",
     "output_type": "stream",
     "text": [
      "  Unnamed: 0  2012  2013  2014  2015  2016  2017  2018  2019\n",
      "0     Bank 1   825   846   846   847   865   862   850   868\n",
      "1     Bank 2   810   829   845   845   853   848   846   872\n",
      "2     Bank 3   834   822   836   833   850   856   844   854\n",
      "3     Bank 4   797   808   825   789   820   823   832   853\n",
      "             2012        2013        2014        2015       2016        2017  \\\n",
      "count   24.000000   24.000000   24.000000   24.000000   24.00000   24.000000   \n",
      "mean   802.208333  808.291667  811.250000  814.208333  832.50000  834.458333   \n",
      "std     24.227148   26.240492   26.013792   32.811688   24.33641   21.849245   \n",
      "min    757.000000  759.000000  755.000000  704.000000  751.00000  768.000000   \n",
      "25%    786.250000  795.000000  798.000000  803.750000  827.50000  826.750000   \n",
      "50%    800.500000  807.500000  813.000000  823.000000  838.00000  836.500000   \n",
      "75%    819.250000  829.000000  826.750000  834.250000  845.75000  848.500000   \n",
      "max    849.000000  851.000000  851.000000  851.000000  865.00000  862.000000   \n",
      "\n",
      "             2018        2019  \n",
      "count   24.000000   24.000000  \n",
      "mean   827.250000  851.166667  \n",
      "std     19.572052   14.290972  \n",
      "min    771.000000  811.000000  \n",
      "25%    822.000000  846.750000  \n",
      "50%    830.500000  852.500000  \n",
      "75%    840.500000  857.250000  \n",
      "max    850.000000  872.000000  \n"
     ]
    },
    {
     "data": {
      "text/html": [
       "<div>\n",
       "<style scoped>\n",
       "    .dataframe tbody tr th:only-of-type {\n",
       "        vertical-align: middle;\n",
       "    }\n",
       "\n",
       "    .dataframe tbody tr th {\n",
       "        vertical-align: top;\n",
       "    }\n",
       "\n",
       "    .dataframe thead th {\n",
       "        text-align: right;\n",
       "    }\n",
       "</style>\n",
       "<table border=\"1\" class=\"dataframe\">\n",
       "  <thead>\n",
       "    <tr style=\"text-align: right;\">\n",
       "      <th></th>\n",
       "      <th>Unnamed: 0</th>\n",
       "      <th>2012</th>\n",
       "      <th>2013</th>\n",
       "      <th>2014</th>\n",
       "      <th>2015</th>\n",
       "      <th>2016</th>\n",
       "      <th>2017</th>\n",
       "      <th>2018</th>\n",
       "      <th>2019</th>\n",
       "    </tr>\n",
       "  </thead>\n",
       "  <tbody>\n",
       "    <tr>\n",
       "      <th>0</th>\n",
       "      <td>Bank 1</td>\n",
       "      <td>825</td>\n",
       "      <td>846</td>\n",
       "      <td>846</td>\n",
       "      <td>847</td>\n",
       "      <td>865</td>\n",
       "      <td>862</td>\n",
       "      <td>850</td>\n",
       "      <td>868</td>\n",
       "    </tr>\n",
       "    <tr>\n",
       "      <th>1</th>\n",
       "      <td>Bank 2</td>\n",
       "      <td>810</td>\n",
       "      <td>829</td>\n",
       "      <td>845</td>\n",
       "      <td>845</td>\n",
       "      <td>853</td>\n",
       "      <td>848</td>\n",
       "      <td>846</td>\n",
       "      <td>872</td>\n",
       "    </tr>\n",
       "    <tr>\n",
       "      <th>2</th>\n",
       "      <td>Bank 3</td>\n",
       "      <td>834</td>\n",
       "      <td>822</td>\n",
       "      <td>836</td>\n",
       "      <td>833</td>\n",
       "      <td>850</td>\n",
       "      <td>856</td>\n",
       "      <td>844</td>\n",
       "      <td>854</td>\n",
       "    </tr>\n",
       "    <tr>\n",
       "      <th>3</th>\n",
       "      <td>Bank 4</td>\n",
       "      <td>797</td>\n",
       "      <td>808</td>\n",
       "      <td>825</td>\n",
       "      <td>789</td>\n",
       "      <td>820</td>\n",
       "      <td>823</td>\n",
       "      <td>832</td>\n",
       "      <td>853</td>\n",
       "    </tr>\n",
       "    <tr>\n",
       "      <th>4</th>\n",
       "      <td>Bank 5</td>\n",
       "      <td>849</td>\n",
       "      <td>851</td>\n",
       "      <td>851</td>\n",
       "      <td>851</td>\n",
       "      <td>858</td>\n",
       "      <td>862</td>\n",
       "      <td>842</td>\n",
       "      <td>861</td>\n",
       "    </tr>\n",
       "    <tr>\n",
       "      <th>5</th>\n",
       "      <td>Bank 6</td>\n",
       "      <td>838</td>\n",
       "      <td>841</td>\n",
       "      <td>825</td>\n",
       "      <td>840</td>\n",
       "      <td>845</td>\n",
       "      <td>848</td>\n",
       "      <td>829</td>\n",
       "      <td>853</td>\n",
       "    </tr>\n",
       "    <tr>\n",
       "      <th>6</th>\n",
       "      <td>Bank 7</td>\n",
       "      <td>787</td>\n",
       "      <td>803</td>\n",
       "      <td>798</td>\n",
       "      <td>828</td>\n",
       "      <td>845</td>\n",
       "      <td>843</td>\n",
       "      <td>840</td>\n",
       "      <td>849</td>\n",
       "    </tr>\n",
       "    <tr>\n",
       "      <th>7</th>\n",
       "      <td>Bank 8</td>\n",
       "      <td>792</td>\n",
       "      <td>800</td>\n",
       "      <td>815</td>\n",
       "      <td>821</td>\n",
       "      <td>835</td>\n",
       "      <td>834</td>\n",
       "      <td>832</td>\n",
       "      <td>849</td>\n",
       "    </tr>\n",
       "    <tr>\n",
       "      <th>8</th>\n",
       "      <td>Bank 9</td>\n",
       "      <td>795</td>\n",
       "      <td>807</td>\n",
       "      <td>820</td>\n",
       "      <td>825</td>\n",
       "      <td>843</td>\n",
       "      <td>834</td>\n",
       "      <td>839</td>\n",
       "      <td>855</td>\n",
       "    </tr>\n",
       "    <tr>\n",
       "      <th>9</th>\n",
       "      <td>Bank 10</td>\n",
       "      <td>834</td>\n",
       "      <td>837</td>\n",
       "      <td>826</td>\n",
       "      <td>842</td>\n",
       "      <td>839</td>\n",
       "      <td>853</td>\n",
       "      <td>838</td>\n",
       "      <td>868</td>\n",
       "    </tr>\n",
       "    <tr>\n",
       "      <th>10</th>\n",
       "      <td>Bank 11</td>\n",
       "      <td>810</td>\n",
       "      <td>833</td>\n",
       "      <td>837</td>\n",
       "      <td>838</td>\n",
       "      <td>852</td>\n",
       "      <td>858</td>\n",
       "      <td>849</td>\n",
       "      <td>871</td>\n",
       "    </tr>\n",
       "    <tr>\n",
       "      <th>11</th>\n",
       "      <td>Bank 12</td>\n",
       "      <td>807</td>\n",
       "      <td>820</td>\n",
       "      <td>807</td>\n",
       "      <td>815</td>\n",
       "      <td>845</td>\n",
       "      <td>837</td>\n",
       "      <td>848</td>\n",
       "      <td>846</td>\n",
       "    </tr>\n",
       "    <tr>\n",
       "      <th>12</th>\n",
       "      <td>Bank 13</td>\n",
       "      <td>811</td>\n",
       "      <td>800</td>\n",
       "      <td>804</td>\n",
       "      <td>805</td>\n",
       "      <td>831</td>\n",
       "      <td>831</td>\n",
       "      <td>827</td>\n",
       "      <td>847</td>\n",
       "    </tr>\n",
       "    <tr>\n",
       "      <th>13</th>\n",
       "      <td>Bank 14</td>\n",
       "      <td>804</td>\n",
       "      <td>827</td>\n",
       "      <td>829</td>\n",
       "      <td>829</td>\n",
       "      <td>837</td>\n",
       "      <td>836</td>\n",
       "      <td>823</td>\n",
       "      <td>854</td>\n",
       "    </tr>\n",
       "    <tr>\n",
       "      <th>14</th>\n",
       "      <td>Bank 15</td>\n",
       "      <td>784</td>\n",
       "      <td>798</td>\n",
       "      <td>798</td>\n",
       "      <td>790</td>\n",
       "      <td>830</td>\n",
       "      <td>828</td>\n",
       "      <td>818</td>\n",
       "      <td>852</td>\n",
       "    </tr>\n",
       "    <tr>\n",
       "      <th>15</th>\n",
       "      <td>Bank 16</td>\n",
       "      <td>818</td>\n",
       "      <td>811</td>\n",
       "      <td>824</td>\n",
       "      <td>815</td>\n",
       "      <td>848</td>\n",
       "      <td>837</td>\n",
       "      <td>833</td>\n",
       "      <td>851</td>\n",
       "    </tr>\n",
       "    <tr>\n",
       "      <th>16</th>\n",
       "      <td>Bank 17</td>\n",
       "      <td>795</td>\n",
       "      <td>786</td>\n",
       "      <td>794</td>\n",
       "      <td>803</td>\n",
       "      <td>817</td>\n",
       "      <td>817</td>\n",
       "      <td>819</td>\n",
       "      <td>856</td>\n",
       "    </tr>\n",
       "    <tr>\n",
       "      <th>17</th>\n",
       "      <td>Bank 18</td>\n",
       "      <td>823</td>\n",
       "      <td>829</td>\n",
       "      <td>811</td>\n",
       "      <td>831</td>\n",
       "      <td>837</td>\n",
       "      <td>850</td>\n",
       "      <td>827</td>\n",
       "      <td>866</td>\n",
       "    </tr>\n",
       "    <tr>\n",
       "      <th>18</th>\n",
       "      <td>Bank 19</td>\n",
       "      <td>775</td>\n",
       "      <td>775</td>\n",
       "      <td>769</td>\n",
       "      <td>783</td>\n",
       "      <td>806</td>\n",
       "      <td>813</td>\n",
       "      <td>800</td>\n",
       "      <td>832</td>\n",
       "    </tr>\n",
       "    <tr>\n",
       "      <th>19</th>\n",
       "      <td>Bank 20</td>\n",
       "      <td>757</td>\n",
       "      <td>771</td>\n",
       "      <td>789</td>\n",
       "      <td>804</td>\n",
       "      <td>813</td>\n",
       "      <td>822</td>\n",
       "      <td>809</td>\n",
       "      <td>852</td>\n",
       "    </tr>\n",
       "    <tr>\n",
       "      <th>20</th>\n",
       "      <td>Bank 21</td>\n",
       "      <td>767</td>\n",
       "      <td>759</td>\n",
       "      <td>757</td>\n",
       "      <td>704</td>\n",
       "      <td>751</td>\n",
       "      <td>768</td>\n",
       "      <td>771</td>\n",
       "      <td>811</td>\n",
       "    </tr>\n",
       "    <tr>\n",
       "      <th>21</th>\n",
       "      <td>Bank 22</td>\n",
       "      <td>772</td>\n",
       "      <td>761</td>\n",
       "      <td>755</td>\n",
       "      <td>758</td>\n",
       "      <td>791</td>\n",
       "      <td>792</td>\n",
       "      <td>787</td>\n",
       "      <td>826</td>\n",
       "    </tr>\n",
       "    <tr>\n",
       "      <th>22</th>\n",
       "      <td>Industry Average</td>\n",
       "      <td>795</td>\n",
       "      <td>800</td>\n",
       "      <td>804</td>\n",
       "      <td>812</td>\n",
       "      <td>830</td>\n",
       "      <td>832</td>\n",
       "      <td>824</td>\n",
       "      <td>846</td>\n",
       "    </tr>\n",
       "    <tr>\n",
       "      <th>23</th>\n",
       "      <td>Financial Savings</td>\n",
       "      <td>774</td>\n",
       "      <td>785</td>\n",
       "      <td>805</td>\n",
       "      <td>833</td>\n",
       "      <td>839</td>\n",
       "      <td>843</td>\n",
       "      <td>827</td>\n",
       "      <td>836</td>\n",
       "    </tr>\n",
       "  </tbody>\n",
       "</table>\n",
       "</div>"
      ],
      "text/plain": [
       "           Unnamed: 0  2012  2013  2014  2015  2016  2017  2018  2019\n",
       "0              Bank 1   825   846   846   847   865   862   850   868\n",
       "1              Bank 2   810   829   845   845   853   848   846   872\n",
       "2              Bank 3   834   822   836   833   850   856   844   854\n",
       "3              Bank 4   797   808   825   789   820   823   832   853\n",
       "4              Bank 5   849   851   851   851   858   862   842   861\n",
       "5              Bank 6   838   841   825   840   845   848   829   853\n",
       "6              Bank 7   787   803   798   828   845   843   840   849\n",
       "7              Bank 8   792   800   815   821   835   834   832   849\n",
       "8              Bank 9   795   807   820   825   843   834   839   855\n",
       "9             Bank 10   834   837   826   842   839   853   838   868\n",
       "10            Bank 11   810   833   837   838   852   858   849   871\n",
       "11            Bank 12   807   820   807   815   845   837   848   846\n",
       "12            Bank 13   811   800   804   805   831   831   827   847\n",
       "13            Bank 14   804   827   829   829   837   836   823   854\n",
       "14            Bank 15   784   798   798   790   830   828   818   852\n",
       "15            Bank 16   818   811   824   815   848   837   833   851\n",
       "16            Bank 17   795   786   794   803   817   817   819   856\n",
       "17            Bank 18   823   829   811   831   837   850   827   866\n",
       "18            Bank 19   775   775   769   783   806   813   800   832\n",
       "19            Bank 20   757   771   789   804   813   822   809   852\n",
       "20            Bank 21   767   759   757   704   751   768   771   811\n",
       "21            Bank 22   772   761   755   758   791   792   787   826\n",
       "22   Industry Average   795   800   804   812   830   832   824   846\n",
       "23  Financial Savings   774   785   805   833   839   843   827   836"
      ]
     },
     "execution_count": 107,
     "metadata": {},
     "output_type": "execute_result"
    }
   ],
   "source": [
    "import pandas as pd\n",
    "import numpy as np\n",
    "import plotly.graph_objects as go\n",
    "df = pd.read_csv(\"bank_data.csv\")\n",
    "print(df.head(4))\n",
    "\n",
    "print(df.describe())\n",
    "\n",
    "df"
   ]
  },
  {
   "cell_type": "code",
   "execution_count": 115,
   "id": "eed1d681",
   "metadata": {
    "scrolled": false
   },
   "outputs": [
    {
     "data": {
      "application/vnd.plotly.v1+json": {
       "config": {
        "plotlyServerURL": "https://plot.ly"
       },
       "data": [
        {
         "marker": {
          "color": "gray"
         },
         "name": "2012",
         "quartilemethod": "linear",
         "showlegend": false,
         "type": "box",
         "y": [
          825,
          810,
          834,
          797,
          849,
          838,
          787,
          792,
          795,
          834,
          810,
          807,
          811,
          804,
          784,
          818,
          795,
          823,
          775,
          757,
          767,
          772,
          795,
          774
         ]
        },
        {
         "legendgroup": "Industry",
         "marker": {
          "color": "yellow",
          "size": 10
         },
         "mode": "markers",
         "name": "Industry",
         "type": "scatter",
         "x": [
          2012
         ],
         "y": [
          795
         ]
        },
        {
         "legendgroup": "Financial",
         "marker": {
          "color": "red",
          "size": 10
         },
         "mode": "markers",
         "name": "Financial",
         "type": "scatter",
         "x": [
          2012
         ],
         "y": [
          774
         ]
        },
        {
         "marker": {
          "color": "gray"
         },
         "name": "2013",
         "quartilemethod": "linear",
         "showlegend": false,
         "type": "box",
         "y": [
          846,
          829,
          822,
          808,
          851,
          841,
          803,
          800,
          807,
          837,
          833,
          820,
          800,
          827,
          798,
          811,
          786,
          829,
          775,
          771,
          759,
          761,
          800,
          785
         ]
        },
        {
         "legendgroup": "Industry",
         "marker": {
          "color": "yellow",
          "size": 10
         },
         "mode": "markers",
         "name": "Industry",
         "showlegend": false,
         "type": "scatter",
         "x": [
          2013
         ],
         "y": [
          800
         ]
        },
        {
         "legendgroup": "Financial",
         "marker": {
          "color": "red",
          "size": 10
         },
         "mode": "markers",
         "name": "Financial",
         "showlegend": false,
         "type": "scatter",
         "x": [
          2013
         ],
         "y": [
          785
         ]
        },
        {
         "marker": {
          "color": "gray"
         },
         "name": "2014",
         "quartilemethod": "linear",
         "showlegend": false,
         "type": "box",
         "y": [
          846,
          845,
          836,
          825,
          851,
          825,
          798,
          815,
          820,
          826,
          837,
          807,
          804,
          829,
          798,
          824,
          794,
          811,
          769,
          789,
          757,
          755,
          804,
          805
         ]
        },
        {
         "legendgroup": "Industry",
         "marker": {
          "color": "yellow",
          "size": 10
         },
         "mode": "markers",
         "name": "Industry",
         "showlegend": false,
         "type": "scatter",
         "x": [
          2014
         ],
         "y": [
          804
         ]
        },
        {
         "legendgroup": "Financial",
         "marker": {
          "color": "red",
          "size": 10
         },
         "mode": "markers",
         "name": "Financial",
         "showlegend": false,
         "type": "scatter",
         "x": [
          2014
         ],
         "y": [
          805
         ]
        },
        {
         "marker": {
          "color": "gray"
         },
         "name": "2015",
         "quartilemethod": "linear",
         "showlegend": false,
         "type": "box",
         "y": [
          847,
          845,
          833,
          789,
          851,
          840,
          828,
          821,
          825,
          842,
          838,
          815,
          805,
          829,
          790,
          815,
          803,
          831,
          783,
          804,
          704,
          758,
          812,
          833
         ]
        },
        {
         "legendgroup": "Industry",
         "marker": {
          "color": "yellow",
          "size": 10
         },
         "mode": "markers",
         "name": "Industry",
         "showlegend": false,
         "type": "scatter",
         "x": [
          2015
         ],
         "y": [
          812
         ]
        },
        {
         "legendgroup": "Financial",
         "marker": {
          "color": "red",
          "size": 10
         },
         "mode": "markers",
         "name": "Financial",
         "showlegend": false,
         "type": "scatter",
         "x": [
          2015
         ],
         "y": [
          833
         ]
        },
        {
         "marker": {
          "color": "gray"
         },
         "name": "2016",
         "quartilemethod": "linear",
         "showlegend": false,
         "type": "box",
         "y": [
          865,
          853,
          850,
          820,
          858,
          845,
          845,
          835,
          843,
          839,
          852,
          845,
          831,
          837,
          830,
          848,
          817,
          837,
          806,
          813,
          751,
          791,
          830,
          839
         ]
        },
        {
         "legendgroup": "Industry",
         "marker": {
          "color": "yellow",
          "size": 10
         },
         "mode": "markers",
         "name": "Industry",
         "showlegend": false,
         "type": "scatter",
         "x": [
          2016
         ],
         "y": [
          830
         ]
        },
        {
         "legendgroup": "Financial",
         "marker": {
          "color": "red",
          "size": 10
         },
         "mode": "markers",
         "name": "Financial",
         "showlegend": false,
         "type": "scatter",
         "x": [
          2016
         ],
         "y": [
          839
         ]
        },
        {
         "marker": {
          "color": "gray"
         },
         "name": "2017",
         "quartilemethod": "linear",
         "showlegend": false,
         "type": "box",
         "y": [
          862,
          848,
          856,
          823,
          862,
          848,
          843,
          834,
          834,
          853,
          858,
          837,
          831,
          836,
          828,
          837,
          817,
          850,
          813,
          822,
          768,
          792,
          832,
          843
         ]
        },
        {
         "legendgroup": "Industry",
         "marker": {
          "color": "yellow",
          "size": 10
         },
         "mode": "markers",
         "name": "Industry",
         "showlegend": false,
         "type": "scatter",
         "x": [
          2017
         ],
         "y": [
          832
         ]
        },
        {
         "legendgroup": "Financial",
         "marker": {
          "color": "red",
          "size": 10
         },
         "mode": "markers",
         "name": "Financial",
         "showlegend": false,
         "type": "scatter",
         "x": [
          2017
         ],
         "y": [
          843
         ]
        },
        {
         "marker": {
          "color": "gray"
         },
         "name": "2018",
         "quartilemethod": "linear",
         "showlegend": false,
         "type": "box",
         "y": [
          850,
          846,
          844,
          832,
          842,
          829,
          840,
          832,
          839,
          838,
          849,
          848,
          827,
          823,
          818,
          833,
          819,
          827,
          800,
          809,
          771,
          787,
          824,
          827
         ]
        },
        {
         "legendgroup": "Industry",
         "marker": {
          "color": "yellow",
          "size": 10
         },
         "mode": "markers",
         "name": "Industry",
         "showlegend": false,
         "type": "scatter",
         "x": [
          2018
         ],
         "y": [
          824
         ]
        },
        {
         "legendgroup": "Financial",
         "marker": {
          "color": "red",
          "size": 10
         },
         "mode": "markers",
         "name": "Financial",
         "showlegend": false,
         "type": "scatter",
         "x": [
          2018
         ],
         "y": [
          827
         ]
        },
        {
         "marker": {
          "color": "gray"
         },
         "name": "2019",
         "quartilemethod": "linear",
         "showlegend": false,
         "type": "box",
         "y": [
          868,
          872,
          854,
          853,
          861,
          853,
          849,
          849,
          855,
          868,
          871,
          846,
          847,
          854,
          852,
          851,
          856,
          866,
          832,
          852,
          811,
          826,
          846,
          836
         ]
        },
        {
         "legendgroup": "Industry",
         "marker": {
          "color": "yellow",
          "size": 10
         },
         "mode": "markers",
         "name": "Industry",
         "showlegend": false,
         "type": "scatter",
         "x": [
          2019
         ],
         "y": [
          846
         ]
        },
        {
         "legendgroup": "Financial",
         "marker": {
          "color": "red",
          "size": 10
         },
         "mode": "markers",
         "name": "Financial",
         "showlegend": false,
         "type": "scatter",
         "x": [
          2019
         ],
         "y": [
          836
         ]
        }
       ],
       "layout": {
        "legend": {
         "title": {
          "text": "Sectors"
         }
        },
        "template": {
         "data": {
          "bar": [
           {
            "error_x": {
             "color": "#2a3f5f"
            },
            "error_y": {
             "color": "#2a3f5f"
            },
            "marker": {
             "line": {
              "color": "#E5ECF6",
              "width": 0.5
             },
             "pattern": {
              "fillmode": "overlay",
              "size": 10,
              "solidity": 0.2
             }
            },
            "type": "bar"
           }
          ],
          "barpolar": [
           {
            "marker": {
             "line": {
              "color": "#E5ECF6",
              "width": 0.5
             },
             "pattern": {
              "fillmode": "overlay",
              "size": 10,
              "solidity": 0.2
             }
            },
            "type": "barpolar"
           }
          ],
          "carpet": [
           {
            "aaxis": {
             "endlinecolor": "#2a3f5f",
             "gridcolor": "white",
             "linecolor": "white",
             "minorgridcolor": "white",
             "startlinecolor": "#2a3f5f"
            },
            "baxis": {
             "endlinecolor": "#2a3f5f",
             "gridcolor": "white",
             "linecolor": "white",
             "minorgridcolor": "white",
             "startlinecolor": "#2a3f5f"
            },
            "type": "carpet"
           }
          ],
          "choropleth": [
           {
            "colorbar": {
             "outlinewidth": 0,
             "ticks": ""
            },
            "type": "choropleth"
           }
          ],
          "contour": [
           {
            "colorbar": {
             "outlinewidth": 0,
             "ticks": ""
            },
            "colorscale": [
             [
              0,
              "#0d0887"
             ],
             [
              0.1111111111111111,
              "#46039f"
             ],
             [
              0.2222222222222222,
              "#7201a8"
             ],
             [
              0.3333333333333333,
              "#9c179e"
             ],
             [
              0.4444444444444444,
              "#bd3786"
             ],
             [
              0.5555555555555556,
              "#d8576b"
             ],
             [
              0.6666666666666666,
              "#ed7953"
             ],
             [
              0.7777777777777778,
              "#fb9f3a"
             ],
             [
              0.8888888888888888,
              "#fdca26"
             ],
             [
              1,
              "#f0f921"
             ]
            ],
            "type": "contour"
           }
          ],
          "contourcarpet": [
           {
            "colorbar": {
             "outlinewidth": 0,
             "ticks": ""
            },
            "type": "contourcarpet"
           }
          ],
          "heatmap": [
           {
            "colorbar": {
             "outlinewidth": 0,
             "ticks": ""
            },
            "colorscale": [
             [
              0,
              "#0d0887"
             ],
             [
              0.1111111111111111,
              "#46039f"
             ],
             [
              0.2222222222222222,
              "#7201a8"
             ],
             [
              0.3333333333333333,
              "#9c179e"
             ],
             [
              0.4444444444444444,
              "#bd3786"
             ],
             [
              0.5555555555555556,
              "#d8576b"
             ],
             [
              0.6666666666666666,
              "#ed7953"
             ],
             [
              0.7777777777777778,
              "#fb9f3a"
             ],
             [
              0.8888888888888888,
              "#fdca26"
             ],
             [
              1,
              "#f0f921"
             ]
            ],
            "type": "heatmap"
           }
          ],
          "heatmapgl": [
           {
            "colorbar": {
             "outlinewidth": 0,
             "ticks": ""
            },
            "colorscale": [
             [
              0,
              "#0d0887"
             ],
             [
              0.1111111111111111,
              "#46039f"
             ],
             [
              0.2222222222222222,
              "#7201a8"
             ],
             [
              0.3333333333333333,
              "#9c179e"
             ],
             [
              0.4444444444444444,
              "#bd3786"
             ],
             [
              0.5555555555555556,
              "#d8576b"
             ],
             [
              0.6666666666666666,
              "#ed7953"
             ],
             [
              0.7777777777777778,
              "#fb9f3a"
             ],
             [
              0.8888888888888888,
              "#fdca26"
             ],
             [
              1,
              "#f0f921"
             ]
            ],
            "type": "heatmapgl"
           }
          ],
          "histogram": [
           {
            "marker": {
             "pattern": {
              "fillmode": "overlay",
              "size": 10,
              "solidity": 0.2
             }
            },
            "type": "histogram"
           }
          ],
          "histogram2d": [
           {
            "colorbar": {
             "outlinewidth": 0,
             "ticks": ""
            },
            "colorscale": [
             [
              0,
              "#0d0887"
             ],
             [
              0.1111111111111111,
              "#46039f"
             ],
             [
              0.2222222222222222,
              "#7201a8"
             ],
             [
              0.3333333333333333,
              "#9c179e"
             ],
             [
              0.4444444444444444,
              "#bd3786"
             ],
             [
              0.5555555555555556,
              "#d8576b"
             ],
             [
              0.6666666666666666,
              "#ed7953"
             ],
             [
              0.7777777777777778,
              "#fb9f3a"
             ],
             [
              0.8888888888888888,
              "#fdca26"
             ],
             [
              1,
              "#f0f921"
             ]
            ],
            "type": "histogram2d"
           }
          ],
          "histogram2dcontour": [
           {
            "colorbar": {
             "outlinewidth": 0,
             "ticks": ""
            },
            "colorscale": [
             [
              0,
              "#0d0887"
             ],
             [
              0.1111111111111111,
              "#46039f"
             ],
             [
              0.2222222222222222,
              "#7201a8"
             ],
             [
              0.3333333333333333,
              "#9c179e"
             ],
             [
              0.4444444444444444,
              "#bd3786"
             ],
             [
              0.5555555555555556,
              "#d8576b"
             ],
             [
              0.6666666666666666,
              "#ed7953"
             ],
             [
              0.7777777777777778,
              "#fb9f3a"
             ],
             [
              0.8888888888888888,
              "#fdca26"
             ],
             [
              1,
              "#f0f921"
             ]
            ],
            "type": "histogram2dcontour"
           }
          ],
          "mesh3d": [
           {
            "colorbar": {
             "outlinewidth": 0,
             "ticks": ""
            },
            "type": "mesh3d"
           }
          ],
          "parcoords": [
           {
            "line": {
             "colorbar": {
              "outlinewidth": 0,
              "ticks": ""
             }
            },
            "type": "parcoords"
           }
          ],
          "pie": [
           {
            "automargin": true,
            "type": "pie"
           }
          ],
          "scatter": [
           {
            "marker": {
             "colorbar": {
              "outlinewidth": 0,
              "ticks": ""
             }
            },
            "type": "scatter"
           }
          ],
          "scatter3d": [
           {
            "line": {
             "colorbar": {
              "outlinewidth": 0,
              "ticks": ""
             }
            },
            "marker": {
             "colorbar": {
              "outlinewidth": 0,
              "ticks": ""
             }
            },
            "type": "scatter3d"
           }
          ],
          "scattercarpet": [
           {
            "marker": {
             "colorbar": {
              "outlinewidth": 0,
              "ticks": ""
             }
            },
            "type": "scattercarpet"
           }
          ],
          "scattergeo": [
           {
            "marker": {
             "colorbar": {
              "outlinewidth": 0,
              "ticks": ""
             }
            },
            "type": "scattergeo"
           }
          ],
          "scattergl": [
           {
            "marker": {
             "colorbar": {
              "outlinewidth": 0,
              "ticks": ""
             }
            },
            "type": "scattergl"
           }
          ],
          "scattermapbox": [
           {
            "marker": {
             "colorbar": {
              "outlinewidth": 0,
              "ticks": ""
             }
            },
            "type": "scattermapbox"
           }
          ],
          "scatterpolar": [
           {
            "marker": {
             "colorbar": {
              "outlinewidth": 0,
              "ticks": ""
             }
            },
            "type": "scatterpolar"
           }
          ],
          "scatterpolargl": [
           {
            "marker": {
             "colorbar": {
              "outlinewidth": 0,
              "ticks": ""
             }
            },
            "type": "scatterpolargl"
           }
          ],
          "scatterternary": [
           {
            "marker": {
             "colorbar": {
              "outlinewidth": 0,
              "ticks": ""
             }
            },
            "type": "scatterternary"
           }
          ],
          "surface": [
           {
            "colorbar": {
             "outlinewidth": 0,
             "ticks": ""
            },
            "colorscale": [
             [
              0,
              "#0d0887"
             ],
             [
              0.1111111111111111,
              "#46039f"
             ],
             [
              0.2222222222222222,
              "#7201a8"
             ],
             [
              0.3333333333333333,
              "#9c179e"
             ],
             [
              0.4444444444444444,
              "#bd3786"
             ],
             [
              0.5555555555555556,
              "#d8576b"
             ],
             [
              0.6666666666666666,
              "#ed7953"
             ],
             [
              0.7777777777777778,
              "#fb9f3a"
             ],
             [
              0.8888888888888888,
              "#fdca26"
             ],
             [
              1,
              "#f0f921"
             ]
            ],
            "type": "surface"
           }
          ],
          "table": [
           {
            "cells": {
             "fill": {
              "color": "#EBF0F8"
             },
             "line": {
              "color": "white"
             }
            },
            "header": {
             "fill": {
              "color": "#C8D4E3"
             },
             "line": {
              "color": "white"
             }
            },
            "type": "table"
           }
          ]
         },
         "layout": {
          "annotationdefaults": {
           "arrowcolor": "#2a3f5f",
           "arrowhead": 0,
           "arrowwidth": 1
          },
          "autotypenumbers": "strict",
          "coloraxis": {
           "colorbar": {
            "outlinewidth": 0,
            "ticks": ""
           }
          },
          "colorscale": {
           "diverging": [
            [
             0,
             "#8e0152"
            ],
            [
             0.1,
             "#c51b7d"
            ],
            [
             0.2,
             "#de77ae"
            ],
            [
             0.3,
             "#f1b6da"
            ],
            [
             0.4,
             "#fde0ef"
            ],
            [
             0.5,
             "#f7f7f7"
            ],
            [
             0.6,
             "#e6f5d0"
            ],
            [
             0.7,
             "#b8e186"
            ],
            [
             0.8,
             "#7fbc41"
            ],
            [
             0.9,
             "#4d9221"
            ],
            [
             1,
             "#276419"
            ]
           ],
           "sequential": [
            [
             0,
             "#0d0887"
            ],
            [
             0.1111111111111111,
             "#46039f"
            ],
            [
             0.2222222222222222,
             "#7201a8"
            ],
            [
             0.3333333333333333,
             "#9c179e"
            ],
            [
             0.4444444444444444,
             "#bd3786"
            ],
            [
             0.5555555555555556,
             "#d8576b"
            ],
            [
             0.6666666666666666,
             "#ed7953"
            ],
            [
             0.7777777777777778,
             "#fb9f3a"
            ],
            [
             0.8888888888888888,
             "#fdca26"
            ],
            [
             1,
             "#f0f921"
            ]
           ],
           "sequentialminus": [
            [
             0,
             "#0d0887"
            ],
            [
             0.1111111111111111,
             "#46039f"
            ],
            [
             0.2222222222222222,
             "#7201a8"
            ],
            [
             0.3333333333333333,
             "#9c179e"
            ],
            [
             0.4444444444444444,
             "#bd3786"
            ],
            [
             0.5555555555555556,
             "#d8576b"
            ],
            [
             0.6666666666666666,
             "#ed7953"
            ],
            [
             0.7777777777777778,
             "#fb9f3a"
            ],
            [
             0.8888888888888888,
             "#fdca26"
            ],
            [
             1,
             "#f0f921"
            ]
           ]
          },
          "colorway": [
           "#636efa",
           "#EF553B",
           "#00cc96",
           "#ab63fa",
           "#FFA15A",
           "#19d3f3",
           "#FF6692",
           "#B6E880",
           "#FF97FF",
           "#FECB52"
          ],
          "font": {
           "color": "#2a3f5f"
          },
          "geo": {
           "bgcolor": "white",
           "lakecolor": "white",
           "landcolor": "#E5ECF6",
           "showlakes": true,
           "showland": true,
           "subunitcolor": "white"
          },
          "hoverlabel": {
           "align": "left"
          },
          "hovermode": "closest",
          "mapbox": {
           "style": "light"
          },
          "paper_bgcolor": "white",
          "plot_bgcolor": "#E5ECF6",
          "polar": {
           "angularaxis": {
            "gridcolor": "white",
            "linecolor": "white",
            "ticks": ""
           },
           "bgcolor": "#E5ECF6",
           "radialaxis": {
            "gridcolor": "white",
            "linecolor": "white",
            "ticks": ""
           }
          },
          "scene": {
           "xaxis": {
            "backgroundcolor": "#E5ECF6",
            "gridcolor": "white",
            "gridwidth": 2,
            "linecolor": "white",
            "showbackground": true,
            "ticks": "",
            "zerolinecolor": "white"
           },
           "yaxis": {
            "backgroundcolor": "#E5ECF6",
            "gridcolor": "white",
            "gridwidth": 2,
            "linecolor": "white",
            "showbackground": true,
            "ticks": "",
            "zerolinecolor": "white"
           },
           "zaxis": {
            "backgroundcolor": "#E5ECF6",
            "gridcolor": "white",
            "gridwidth": 2,
            "linecolor": "white",
            "showbackground": true,
            "ticks": "",
            "zerolinecolor": "white"
           }
          },
          "shapedefaults": {
           "line": {
            "color": "#2a3f5f"
           }
          },
          "ternary": {
           "aaxis": {
            "gridcolor": "white",
            "linecolor": "white",
            "ticks": ""
           },
           "baxis": {
            "gridcolor": "white",
            "linecolor": "white",
            "ticks": ""
           },
           "bgcolor": "#E5ECF6",
           "caxis": {
            "gridcolor": "white",
            "linecolor": "white",
            "ticks": ""
           }
          },
          "title": {
           "x": 0.05
          },
          "xaxis": {
           "automargin": true,
           "gridcolor": "white",
           "linecolor": "white",
           "ticks": "",
           "title": {
            "standoff": 15
           },
           "zerolinecolor": "white",
           "zerolinewidth": 2
          },
          "yaxis": {
           "automargin": true,
           "gridcolor": "white",
           "linecolor": "white",
           "ticks": "",
           "title": {
            "standoff": 15
           },
           "zerolinecolor": "white",
           "zerolinewidth": 2
          }
         }
        },
        "title": {
         "text": "Bank Index"
        },
        "xaxis": {
         "title": {
          "text": "Years"
         }
        },
        "yaxis": {
         "title": {
          "text": "Values"
         }
        }
       }
      },
      "text/html": [
       "<div>                            <div id=\"8dc8e24b-9edf-431d-acec-c6440a36bf12\" class=\"plotly-graph-div\" style=\"height:525px; width:100%;\"></div>            <script type=\"text/javascript\">                require([\"plotly\"], function(Plotly) {                    window.PLOTLYENV=window.PLOTLYENV || {};                                    if (document.getElementById(\"8dc8e24b-9edf-431d-acec-c6440a36bf12\")) {                    Plotly.newPlot(                        \"8dc8e24b-9edf-431d-acec-c6440a36bf12\",                        [{\"marker\":{\"color\":\"gray\"},\"name\":\"2012\",\"quartilemethod\":\"linear\",\"showlegend\":false,\"y\":[825,810,834,797,849,838,787,792,795,834,810,807,811,804,784,818,795,823,775,757,767,772,795,774],\"type\":\"box\"},{\"legendgroup\":\"Industry\",\"marker\":{\"color\":\"yellow\",\"size\":10},\"mode\":\"markers\",\"name\":\"Industry\",\"x\":[2012],\"y\":[795],\"type\":\"scatter\"},{\"legendgroup\":\"Financial\",\"marker\":{\"color\":\"red\",\"size\":10},\"mode\":\"markers\",\"name\":\"Financial\",\"x\":[2012],\"y\":[774],\"type\":\"scatter\"},{\"marker\":{\"color\":\"gray\"},\"name\":\"2013\",\"quartilemethod\":\"linear\",\"showlegend\":false,\"y\":[846,829,822,808,851,841,803,800,807,837,833,820,800,827,798,811,786,829,775,771,759,761,800,785],\"type\":\"box\"},{\"legendgroup\":\"Industry\",\"marker\":{\"color\":\"yellow\",\"size\":10},\"mode\":\"markers\",\"name\":\"Industry\",\"showlegend\":false,\"x\":[2013],\"y\":[800],\"type\":\"scatter\"},{\"legendgroup\":\"Financial\",\"marker\":{\"color\":\"red\",\"size\":10},\"mode\":\"markers\",\"name\":\"Financial\",\"showlegend\":false,\"x\":[2013],\"y\":[785],\"type\":\"scatter\"},{\"marker\":{\"color\":\"gray\"},\"name\":\"2014\",\"quartilemethod\":\"linear\",\"showlegend\":false,\"y\":[846,845,836,825,851,825,798,815,820,826,837,807,804,829,798,824,794,811,769,789,757,755,804,805],\"type\":\"box\"},{\"legendgroup\":\"Industry\",\"marker\":{\"color\":\"yellow\",\"size\":10},\"mode\":\"markers\",\"name\":\"Industry\",\"showlegend\":false,\"x\":[2014],\"y\":[804],\"type\":\"scatter\"},{\"legendgroup\":\"Financial\",\"marker\":{\"color\":\"red\",\"size\":10},\"mode\":\"markers\",\"name\":\"Financial\",\"showlegend\":false,\"x\":[2014],\"y\":[805],\"type\":\"scatter\"},{\"marker\":{\"color\":\"gray\"},\"name\":\"2015\",\"quartilemethod\":\"linear\",\"showlegend\":false,\"y\":[847,845,833,789,851,840,828,821,825,842,838,815,805,829,790,815,803,831,783,804,704,758,812,833],\"type\":\"box\"},{\"legendgroup\":\"Industry\",\"marker\":{\"color\":\"yellow\",\"size\":10},\"mode\":\"markers\",\"name\":\"Industry\",\"showlegend\":false,\"x\":[2015],\"y\":[812],\"type\":\"scatter\"},{\"legendgroup\":\"Financial\",\"marker\":{\"color\":\"red\",\"size\":10},\"mode\":\"markers\",\"name\":\"Financial\",\"showlegend\":false,\"x\":[2015],\"y\":[833],\"type\":\"scatter\"},{\"marker\":{\"color\":\"gray\"},\"name\":\"2016\",\"quartilemethod\":\"linear\",\"showlegend\":false,\"y\":[865,853,850,820,858,845,845,835,843,839,852,845,831,837,830,848,817,837,806,813,751,791,830,839],\"type\":\"box\"},{\"legendgroup\":\"Industry\",\"marker\":{\"color\":\"yellow\",\"size\":10},\"mode\":\"markers\",\"name\":\"Industry\",\"showlegend\":false,\"x\":[2016],\"y\":[830],\"type\":\"scatter\"},{\"legendgroup\":\"Financial\",\"marker\":{\"color\":\"red\",\"size\":10},\"mode\":\"markers\",\"name\":\"Financial\",\"showlegend\":false,\"x\":[2016],\"y\":[839],\"type\":\"scatter\"},{\"marker\":{\"color\":\"gray\"},\"name\":\"2017\",\"quartilemethod\":\"linear\",\"showlegend\":false,\"y\":[862,848,856,823,862,848,843,834,834,853,858,837,831,836,828,837,817,850,813,822,768,792,832,843],\"type\":\"box\"},{\"legendgroup\":\"Industry\",\"marker\":{\"color\":\"yellow\",\"size\":10},\"mode\":\"markers\",\"name\":\"Industry\",\"showlegend\":false,\"x\":[2017],\"y\":[832],\"type\":\"scatter\"},{\"legendgroup\":\"Financial\",\"marker\":{\"color\":\"red\",\"size\":10},\"mode\":\"markers\",\"name\":\"Financial\",\"showlegend\":false,\"x\":[2017],\"y\":[843],\"type\":\"scatter\"},{\"marker\":{\"color\":\"gray\"},\"name\":\"2018\",\"quartilemethod\":\"linear\",\"showlegend\":false,\"y\":[850,846,844,832,842,829,840,832,839,838,849,848,827,823,818,833,819,827,800,809,771,787,824,827],\"type\":\"box\"},{\"legendgroup\":\"Industry\",\"marker\":{\"color\":\"yellow\",\"size\":10},\"mode\":\"markers\",\"name\":\"Industry\",\"showlegend\":false,\"x\":[2018],\"y\":[824],\"type\":\"scatter\"},{\"legendgroup\":\"Financial\",\"marker\":{\"color\":\"red\",\"size\":10},\"mode\":\"markers\",\"name\":\"Financial\",\"showlegend\":false,\"x\":[2018],\"y\":[827],\"type\":\"scatter\"},{\"marker\":{\"color\":\"gray\"},\"name\":\"2019\",\"quartilemethod\":\"linear\",\"showlegend\":false,\"y\":[868,872,854,853,861,853,849,849,855,868,871,846,847,854,852,851,856,866,832,852,811,826,846,836],\"type\":\"box\"},{\"legendgroup\":\"Industry\",\"marker\":{\"color\":\"yellow\",\"size\":10},\"mode\":\"markers\",\"name\":\"Industry\",\"showlegend\":false,\"x\":[2019],\"y\":[846],\"type\":\"scatter\"},{\"legendgroup\":\"Financial\",\"marker\":{\"color\":\"red\",\"size\":10},\"mode\":\"markers\",\"name\":\"Financial\",\"showlegend\":false,\"x\":[2019],\"y\":[836],\"type\":\"scatter\"}],                        {\"template\":{\"data\":{\"bar\":[{\"error_x\":{\"color\":\"#2a3f5f\"},\"error_y\":{\"color\":\"#2a3f5f\"},\"marker\":{\"line\":{\"color\":\"#E5ECF6\",\"width\":0.5},\"pattern\":{\"fillmode\":\"overlay\",\"size\":10,\"solidity\":0.2}},\"type\":\"bar\"}],\"barpolar\":[{\"marker\":{\"line\":{\"color\":\"#E5ECF6\",\"width\":0.5},\"pattern\":{\"fillmode\":\"overlay\",\"size\":10,\"solidity\":0.2}},\"type\":\"barpolar\"}],\"carpet\":[{\"aaxis\":{\"endlinecolor\":\"#2a3f5f\",\"gridcolor\":\"white\",\"linecolor\":\"white\",\"minorgridcolor\":\"white\",\"startlinecolor\":\"#2a3f5f\"},\"baxis\":{\"endlinecolor\":\"#2a3f5f\",\"gridcolor\":\"white\",\"linecolor\":\"white\",\"minorgridcolor\":\"white\",\"startlinecolor\":\"#2a3f5f\"},\"type\":\"carpet\"}],\"choropleth\":[{\"colorbar\":{\"outlinewidth\":0,\"ticks\":\"\"},\"type\":\"choropleth\"}],\"contour\":[{\"colorbar\":{\"outlinewidth\":0,\"ticks\":\"\"},\"colorscale\":[[0.0,\"#0d0887\"],[0.1111111111111111,\"#46039f\"],[0.2222222222222222,\"#7201a8\"],[0.3333333333333333,\"#9c179e\"],[0.4444444444444444,\"#bd3786\"],[0.5555555555555556,\"#d8576b\"],[0.6666666666666666,\"#ed7953\"],[0.7777777777777778,\"#fb9f3a\"],[0.8888888888888888,\"#fdca26\"],[1.0,\"#f0f921\"]],\"type\":\"contour\"}],\"contourcarpet\":[{\"colorbar\":{\"outlinewidth\":0,\"ticks\":\"\"},\"type\":\"contourcarpet\"}],\"heatmap\":[{\"colorbar\":{\"outlinewidth\":0,\"ticks\":\"\"},\"colorscale\":[[0.0,\"#0d0887\"],[0.1111111111111111,\"#46039f\"],[0.2222222222222222,\"#7201a8\"],[0.3333333333333333,\"#9c179e\"],[0.4444444444444444,\"#bd3786\"],[0.5555555555555556,\"#d8576b\"],[0.6666666666666666,\"#ed7953\"],[0.7777777777777778,\"#fb9f3a\"],[0.8888888888888888,\"#fdca26\"],[1.0,\"#f0f921\"]],\"type\":\"heatmap\"}],\"heatmapgl\":[{\"colorbar\":{\"outlinewidth\":0,\"ticks\":\"\"},\"colorscale\":[[0.0,\"#0d0887\"],[0.1111111111111111,\"#46039f\"],[0.2222222222222222,\"#7201a8\"],[0.3333333333333333,\"#9c179e\"],[0.4444444444444444,\"#bd3786\"],[0.5555555555555556,\"#d8576b\"],[0.6666666666666666,\"#ed7953\"],[0.7777777777777778,\"#fb9f3a\"],[0.8888888888888888,\"#fdca26\"],[1.0,\"#f0f921\"]],\"type\":\"heatmapgl\"}],\"histogram\":[{\"marker\":{\"pattern\":{\"fillmode\":\"overlay\",\"size\":10,\"solidity\":0.2}},\"type\":\"histogram\"}],\"histogram2d\":[{\"colorbar\":{\"outlinewidth\":0,\"ticks\":\"\"},\"colorscale\":[[0.0,\"#0d0887\"],[0.1111111111111111,\"#46039f\"],[0.2222222222222222,\"#7201a8\"],[0.3333333333333333,\"#9c179e\"],[0.4444444444444444,\"#bd3786\"],[0.5555555555555556,\"#d8576b\"],[0.6666666666666666,\"#ed7953\"],[0.7777777777777778,\"#fb9f3a\"],[0.8888888888888888,\"#fdca26\"],[1.0,\"#f0f921\"]],\"type\":\"histogram2d\"}],\"histogram2dcontour\":[{\"colorbar\":{\"outlinewidth\":0,\"ticks\":\"\"},\"colorscale\":[[0.0,\"#0d0887\"],[0.1111111111111111,\"#46039f\"],[0.2222222222222222,\"#7201a8\"],[0.3333333333333333,\"#9c179e\"],[0.4444444444444444,\"#bd3786\"],[0.5555555555555556,\"#d8576b\"],[0.6666666666666666,\"#ed7953\"],[0.7777777777777778,\"#fb9f3a\"],[0.8888888888888888,\"#fdca26\"],[1.0,\"#f0f921\"]],\"type\":\"histogram2dcontour\"}],\"mesh3d\":[{\"colorbar\":{\"outlinewidth\":0,\"ticks\":\"\"},\"type\":\"mesh3d\"}],\"parcoords\":[{\"line\":{\"colorbar\":{\"outlinewidth\":0,\"ticks\":\"\"}},\"type\":\"parcoords\"}],\"pie\":[{\"automargin\":true,\"type\":\"pie\"}],\"scatter\":[{\"marker\":{\"colorbar\":{\"outlinewidth\":0,\"ticks\":\"\"}},\"type\":\"scatter\"}],\"scatter3d\":[{\"line\":{\"colorbar\":{\"outlinewidth\":0,\"ticks\":\"\"}},\"marker\":{\"colorbar\":{\"outlinewidth\":0,\"ticks\":\"\"}},\"type\":\"scatter3d\"}],\"scattercarpet\":[{\"marker\":{\"colorbar\":{\"outlinewidth\":0,\"ticks\":\"\"}},\"type\":\"scattercarpet\"}],\"scattergeo\":[{\"marker\":{\"colorbar\":{\"outlinewidth\":0,\"ticks\":\"\"}},\"type\":\"scattergeo\"}],\"scattergl\":[{\"marker\":{\"colorbar\":{\"outlinewidth\":0,\"ticks\":\"\"}},\"type\":\"scattergl\"}],\"scattermapbox\":[{\"marker\":{\"colorbar\":{\"outlinewidth\":0,\"ticks\":\"\"}},\"type\":\"scattermapbox\"}],\"scatterpolar\":[{\"marker\":{\"colorbar\":{\"outlinewidth\":0,\"ticks\":\"\"}},\"type\":\"scatterpolar\"}],\"scatterpolargl\":[{\"marker\":{\"colorbar\":{\"outlinewidth\":0,\"ticks\":\"\"}},\"type\":\"scatterpolargl\"}],\"scatterternary\":[{\"marker\":{\"colorbar\":{\"outlinewidth\":0,\"ticks\":\"\"}},\"type\":\"scatterternary\"}],\"surface\":[{\"colorbar\":{\"outlinewidth\":0,\"ticks\":\"\"},\"colorscale\":[[0.0,\"#0d0887\"],[0.1111111111111111,\"#46039f\"],[0.2222222222222222,\"#7201a8\"],[0.3333333333333333,\"#9c179e\"],[0.4444444444444444,\"#bd3786\"],[0.5555555555555556,\"#d8576b\"],[0.6666666666666666,\"#ed7953\"],[0.7777777777777778,\"#fb9f3a\"],[0.8888888888888888,\"#fdca26\"],[1.0,\"#f0f921\"]],\"type\":\"surface\"}],\"table\":[{\"cells\":{\"fill\":{\"color\":\"#EBF0F8\"},\"line\":{\"color\":\"white\"}},\"header\":{\"fill\":{\"color\":\"#C8D4E3\"},\"line\":{\"color\":\"white\"}},\"type\":\"table\"}]},\"layout\":{\"annotationdefaults\":{\"arrowcolor\":\"#2a3f5f\",\"arrowhead\":0,\"arrowwidth\":1},\"autotypenumbers\":\"strict\",\"coloraxis\":{\"colorbar\":{\"outlinewidth\":0,\"ticks\":\"\"}},\"colorscale\":{\"diverging\":[[0,\"#8e0152\"],[0.1,\"#c51b7d\"],[0.2,\"#de77ae\"],[0.3,\"#f1b6da\"],[0.4,\"#fde0ef\"],[0.5,\"#f7f7f7\"],[0.6,\"#e6f5d0\"],[0.7,\"#b8e186\"],[0.8,\"#7fbc41\"],[0.9,\"#4d9221\"],[1,\"#276419\"]],\"sequential\":[[0.0,\"#0d0887\"],[0.1111111111111111,\"#46039f\"],[0.2222222222222222,\"#7201a8\"],[0.3333333333333333,\"#9c179e\"],[0.4444444444444444,\"#bd3786\"],[0.5555555555555556,\"#d8576b\"],[0.6666666666666666,\"#ed7953\"],[0.7777777777777778,\"#fb9f3a\"],[0.8888888888888888,\"#fdca26\"],[1.0,\"#f0f921\"]],\"sequentialminus\":[[0.0,\"#0d0887\"],[0.1111111111111111,\"#46039f\"],[0.2222222222222222,\"#7201a8\"],[0.3333333333333333,\"#9c179e\"],[0.4444444444444444,\"#bd3786\"],[0.5555555555555556,\"#d8576b\"],[0.6666666666666666,\"#ed7953\"],[0.7777777777777778,\"#fb9f3a\"],[0.8888888888888888,\"#fdca26\"],[1.0,\"#f0f921\"]]},\"colorway\":[\"#636efa\",\"#EF553B\",\"#00cc96\",\"#ab63fa\",\"#FFA15A\",\"#19d3f3\",\"#FF6692\",\"#B6E880\",\"#FF97FF\",\"#FECB52\"],\"font\":{\"color\":\"#2a3f5f\"},\"geo\":{\"bgcolor\":\"white\",\"lakecolor\":\"white\",\"landcolor\":\"#E5ECF6\",\"showlakes\":true,\"showland\":true,\"subunitcolor\":\"white\"},\"hoverlabel\":{\"align\":\"left\"},\"hovermode\":\"closest\",\"mapbox\":{\"style\":\"light\"},\"paper_bgcolor\":\"white\",\"plot_bgcolor\":\"#E5ECF6\",\"polar\":{\"angularaxis\":{\"gridcolor\":\"white\",\"linecolor\":\"white\",\"ticks\":\"\"},\"bgcolor\":\"#E5ECF6\",\"radialaxis\":{\"gridcolor\":\"white\",\"linecolor\":\"white\",\"ticks\":\"\"}},\"scene\":{\"xaxis\":{\"backgroundcolor\":\"#E5ECF6\",\"gridcolor\":\"white\",\"gridwidth\":2,\"linecolor\":\"white\",\"showbackground\":true,\"ticks\":\"\",\"zerolinecolor\":\"white\"},\"yaxis\":{\"backgroundcolor\":\"#E5ECF6\",\"gridcolor\":\"white\",\"gridwidth\":2,\"linecolor\":\"white\",\"showbackground\":true,\"ticks\":\"\",\"zerolinecolor\":\"white\"},\"zaxis\":{\"backgroundcolor\":\"#E5ECF6\",\"gridcolor\":\"white\",\"gridwidth\":2,\"linecolor\":\"white\",\"showbackground\":true,\"ticks\":\"\",\"zerolinecolor\":\"white\"}},\"shapedefaults\":{\"line\":{\"color\":\"#2a3f5f\"}},\"ternary\":{\"aaxis\":{\"gridcolor\":\"white\",\"linecolor\":\"white\",\"ticks\":\"\"},\"baxis\":{\"gridcolor\":\"white\",\"linecolor\":\"white\",\"ticks\":\"\"},\"bgcolor\":\"#E5ECF6\",\"caxis\":{\"gridcolor\":\"white\",\"linecolor\":\"white\",\"ticks\":\"\"}},\"title\":{\"x\":0.05},\"xaxis\":{\"automargin\":true,\"gridcolor\":\"white\",\"linecolor\":\"white\",\"ticks\":\"\",\"title\":{\"standoff\":15},\"zerolinecolor\":\"white\",\"zerolinewidth\":2},\"yaxis\":{\"automargin\":true,\"gridcolor\":\"white\",\"linecolor\":\"white\",\"ticks\":\"\",\"title\":{\"standoff\":15},\"zerolinecolor\":\"white\",\"zerolinewidth\":2}}},\"legend\":{\"title\":{\"text\":\"Sectors\"}},\"title\":{\"text\":\"Bank Index\"},\"xaxis\":{\"title\":{\"text\":\"Years\"}},\"yaxis\":{\"title\":{\"text\":\"Values\"}}},                        {\"responsive\": true}                    ).then(function(){\n",
       "                            \n",
       "var gd = document.getElementById('8dc8e24b-9edf-431d-acec-c6440a36bf12');\n",
       "var x = new MutationObserver(function (mutations, observer) {{\n",
       "        var display = window.getComputedStyle(gd).display;\n",
       "        if (!display || display === 'none') {{\n",
       "            console.log([gd, 'removed!']);\n",
       "            Plotly.purge(gd);\n",
       "            observer.disconnect();\n",
       "        }}\n",
       "}});\n",
       "\n",
       "// Listen for the removal of the full notebook cells\n",
       "var notebookContainer = gd.closest('#notebook-container');\n",
       "if (notebookContainer) {{\n",
       "    x.observe(notebookContainer, {childList: true});\n",
       "}}\n",
       "\n",
       "// Listen for the clearing of the current output cell\n",
       "var outputEl = gd.closest('.output');\n",
       "if (outputEl) {{\n",
       "    x.observe(outputEl, {childList: true});\n",
       "}}\n",
       "\n",
       "                        })                };                });            </script>        </div>"
      ]
     },
     "metadata": {},
     "output_type": "display_data"
    }
   ],
   "source": [
    "fig = go.Figure()\n",
    "fig.add_trace(go.Box(y=df['2012'], quartilemethod=\"linear\", name=\"2012\", marker_color = 'gray', showlegend=False))\n",
    "fig.add_trace(go.Scatter(x=[2012], y=[df[df['Unnamed: 0'] == \"Industry Average\"]['2012'].values[0]],\n",
    "    marker=dict(color=\"yellow\", size=10), mode=\"markers\",name=\"Industry\", legendgroup=\"Industry\"))\n",
    "fig.add_trace(go.Scatter(x=[2012], y=[df[df['Unnamed: 0'] == \"Financial Savings\"]['2012'].values[0]],\n",
    "    marker=dict(color=\"red\", size=10), mode=\"markers\",name=\"Financial\", legendgroup=\"Financial\"))\n",
    "\n",
    "fig.add_trace(go.Box(y=df['2013'], quartilemethod=\"linear\", name=\"2013\", marker_color = 'gray', showlegend=False))\n",
    "fig.add_trace(go.Scatter(x=[2013], y=[df[df['Unnamed: 0'] == \"Industry Average\"]['2013'].values[0]],\n",
    "    marker=dict(color=\"yellow\", size=10), mode=\"markers\",name=\"Industry\", legendgroup=\"Industry\", showlegend=False))\n",
    "fig.add_trace(go.Scatter(x=[2013], y=[df[df['Unnamed: 0'] == \"Financial Savings\"]['2013'].values[0]],\n",
    "    marker=dict(color=\"red\", size=10), mode=\"markers\",name=\"Financial\", legendgroup=\"Financial\", showlegend=False))\n",
    "\n",
    "fig.add_trace(go.Box(y=df['2014'], quartilemethod=\"linear\", name=\"2014\", marker_color = 'gray', showlegend=False))\n",
    "fig.add_trace(go.Scatter(x=[2014], y=[df[df['Unnamed: 0'] == \"Industry Average\"]['2014'].values[0]],\n",
    "    marker=dict(color=\"yellow\", size=10), mode=\"markers\",name=\"Industry\", legendgroup=\"Industry\", showlegend=False))\n",
    "fig.add_trace(go.Scatter(x=[2014], y=[df[df['Unnamed: 0'] == \"Financial Savings\"]['2014'].values[0]],\n",
    "    marker=dict(color=\"red\", size=10), mode=\"markers\",name=\"Financial\", legendgroup=\"Financial\", showlegend=False))\n",
    "\n",
    "fig.add_trace(go.Box(y=df['2015'], quartilemethod=\"linear\", name=\"2015\", marker_color = 'gray', showlegend=False))\n",
    "fig.add_trace(go.Scatter(x=[2015], y=[df[df['Unnamed: 0'] == \"Industry Average\"]['2015'].values[0]],\n",
    "    marker=dict(color=\"yellow\", size=10), mode=\"markers\",name=\"Industry\", legendgroup=\"Industry\", showlegend=False))\n",
    "fig.add_trace(go.Scatter(x=[2015], y=[df[df['Unnamed: 0'] == \"Financial Savings\"]['2015'].values[0]],\n",
    "    marker=dict(color=\"red\", size=10), mode=\"markers\",name=\"Financial\", legendgroup=\"Financial\", showlegend=False))\n",
    "\n",
    "fig.add_trace(go.Box(y=df['2016'], quartilemethod=\"linear\", name=\"2016\", marker_color = 'gray', showlegend=False))\n",
    "fig.add_trace(go.Scatter(x=[2016], y=[df[df['Unnamed: 0'] == \"Industry Average\"]['2016'].values[0]],\n",
    "    marker=dict(color=\"yellow\", size=10), mode=\"markers\",name=\"Industry\", legendgroup=\"Industry\", showlegend=False))\n",
    "fig.add_trace(go.Scatter(x=[2016], y=[df[df['Unnamed: 0'] == \"Financial Savings\"]['2016'].values[0]],\n",
    "    marker=dict(color=\"red\", size=10), mode=\"markers\",name=\"Financial\", legendgroup=\"Financial\", showlegend=False))\n",
    "\n",
    "fig.add_trace(go.Box(y=df['2017'], quartilemethod=\"linear\", name=\"2017\", marker_color = 'gray', showlegend=False))\n",
    "fig.add_trace(go.Scatter(x=[2017], y=[df[df['Unnamed: 0'] == \"Industry Average\"]['2017'].values[0]],\n",
    "    marker=dict(color=\"yellow\", size=10), mode=\"markers\",name=\"Industry\", legendgroup=\"Industry\", showlegend=False))\n",
    "fig.add_trace(go.Scatter(x=[2017], y=[df[df['Unnamed: 0'] == \"Financial Savings\"]['2017'].values[0]],\n",
    "    marker=dict(color=\"red\", size=10), mode=\"markers\",name=\"Financial\", legendgroup=\"Financial\", showlegend=False))\n",
    "\n",
    "fig.add_trace(go.Box(y=df['2018'], quartilemethod=\"linear\", name=\"2018\", marker_color = 'gray', showlegend=False))\n",
    "fig.add_trace(go.Scatter(x=[2018], y=[df[df['Unnamed: 0'] == \"Industry Average\"]['2018'].values[0]],\n",
    "    marker=dict(color=\"yellow\", size=10), mode=\"markers\",name=\"Industry\", legendgroup=\"Industry\", showlegend=False))\n",
    "fig.add_trace(go.Scatter(x=[2018], y=[df[df['Unnamed: 0'] == \"Financial Savings\"]['2018'].values[0]],\n",
    "    marker=dict(color=\"red\", size=10), mode=\"markers\",name=\"Financial\", legendgroup=\"Financial\", showlegend=False))\n",
    "\n",
    "fig.add_trace(go.Box(y=df['2019'], quartilemethod=\"linear\", name=\"2019\", marker_color = 'gray', showlegend=False))\n",
    "fig.add_trace(go.Scatter(x=[2019], y=[df[df['Unnamed: 0'] == \"Industry Average\"]['2019'].values[0]],\n",
    "    marker=dict(color=\"yellow\", size=10), mode=\"markers\",name=\"Industry\", legendgroup=\"Industry\", showlegend=False))\n",
    "fig.add_trace(go.Scatter(x=[2019], y=[df[df['Unnamed: 0'] == \"Financial Savings\"]['2019'].values[0]],\n",
    "    marker=dict(color=\"red\", size=10), mode=\"markers\",name=\"Financial\", legendgroup=\"Financial\", showlegend=False))\n",
    "\n",
    "# fig.update_traces(\n",
    "#     showlegend=True\n",
    "# )\n",
    "fig.update_layout(\n",
    "    title=\"Bank Index\",\n",
    "    xaxis_title=\"Years\",\n",
    "    yaxis_title=\"Values\",\n",
    "    legend_title_text='Sectors'\n",
    ")\n",
    "fig.show()\n"
   ]
  }
 ],
 "metadata": {
  "kernelspec": {
   "display_name": "Python 3 (ipykernel)",
   "language": "python",
   "name": "python3"
  },
  "language_info": {
   "codemirror_mode": {
    "name": "ipython",
    "version": 3
   },
   "file_extension": ".py",
   "mimetype": "text/x-python",
   "name": "python",
   "nbconvert_exporter": "python",
   "pygments_lexer": "ipython3",
   "version": "3.9.2"
  }
 },
 "nbformat": 4,
 "nbformat_minor": 5
}
